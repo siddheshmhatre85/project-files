{
  "metadata": {
    "kernelspec": {
      "name": "python",
      "display_name": "Pyolite",
      "language": "python"
    },
    "language_info": {
      "codemirror_mode": {
        "name": "python",
        "version": 3
      },
      "file_extension": ".py",
      "mimetype": "text/x-python",
      "name": "python",
      "nbconvert_exporter": "python",
      "pygments_lexer": "ipython3",
      "version": "3.8"
    }
  },
  "nbformat_minor": 4,
  "nbformat": 4,
  "cells": [
    {
      "cell_type": "markdown",
      "source": "# My Jupyter Notebook on IBM Watson Studio",
      "metadata": {}
    },
    {
      "cell_type": "markdown",
      "source": "**Siddhesh Mhatre**\n\nSenior Executive",
      "metadata": {}
    },
    {
      "cell_type": "markdown",
      "source": "*I am interested in data science because, I want to combine the power of AI/ML with the business requirements, to create powerful solutions and provide deep insights into issues an organization needs to solve or discover underlying patterns to discover new potential insights*",
      "metadata": {}
    },
    {
      "cell_type": "markdown",
      "source": "### The Following Code will generate a random integer between 80 and 100",
      "metadata": {}
    },
    {
      "cell_type": "code",
      "source": "import random\n\nRandom_int = random.randint(80,100)\n\nprint(Random_int)",
      "metadata": {
        "trusted": true
      },
      "execution_count": 3,
      "outputs": [
        {
          "name": "stdout",
          "text": "100\n",
          "output_type": "stream"
        }
      ]
    },
    {
      "cell_type": "markdown",
      "source": "- Main bullet point\n     - Sub bullet point",
      "metadata": {}
    },
    {
      "cell_type": "markdown",
      "source": "1. Numbered item\n1. Numbered item",
      "metadata": {}
    },
    {
      "cell_type": "markdown",
      "source": "***",
      "metadata": {}
    },
    {
      "cell_type": "markdown",
      "source": "<div class=\"alert alert-block alert-warning\">\n<b>Example:</b> Use yellow boxes for examples that are not \ninside code cells, or use for mathematical formulas if needed.\n</div>",
      "metadata": {}
    },
    {
      "cell_type": "markdown",
      "source": "<div class=\"alert alert-block alert-info\">\n<b>Tip:</b> Use blue boxes (alert-info) for tips and notes. \nIf it’s a note, you don’t have to include the word “Note”.\n</div>",
      "metadata": {}
    },
    {
      "cell_type": "markdown",
      "source": "<div class=\"alert alert-block alert-success\">\n<b>Up to you:</b> Use green boxes sparingly, and only for some specific \npurpose that the other boxes can't cover. For example, if you have a lot \nof related content to link to, maybe you decide to use green boxes for \nrelated links from each section of a notebook.\n</div>",
      "metadata": {}
    },
    {
      "cell_type": "markdown",
      "source": "<div class=\"alert alert-block alert-danger\">\n<b>Just don't:</b> In general, avoid the red boxes. These should only be\nused for actions that might cause data loss or another major issue.\n</div>",
      "metadata": {}
    },
    {
      "cell_type": "markdown",
      "source": "[Section title](#section-title)",
      "metadata": {}
    },
    {
      "cell_type": "markdown",
      "source": "<strike>strike text</strike>\n<del>strike text<del>",
      "metadata": {}
    },
    {
      "cell_type": "markdown",
      "source": ">Siddhesh blocked quotes",
      "metadata": {}
    },
    {
      "cell_type": "markdown",
      "source": "Col1 |Col2 |Col3\n-----|-----|----- \nData1|Data2|Data3\nData1|Data2|Data3\nData1|Data2|Data3\nData1|Data2|Data3",
      "metadata": {}
    },
    {
      "cell_type": "markdown",
      "source": "__[MCGM Website link](https://www.mcgm.gov.in/irj/portal)__",
      "metadata": {}
    },
    {
      "cell_type": "code",
      "source": "",
      "metadata": {},
      "execution_count": null,
      "outputs": []
    }
  ]
}